{
 "cells": [
  {
   "cell_type": "markdown",
   "id": "f87d0c6e-8f89-4809-827d-b5d28d94a7d7",
   "metadata": {},
   "source": [
    "# Notes\n",
    "    1. need to install selenium (conda)\n",
    "    2. need to install webdriver_manager (pip)"
   ]
  },
  {
   "cell_type": "code",
   "execution_count": 1,
   "id": "d3eede88-f52c-41df-8499-0db9364ece8f",
   "metadata": {},
   "outputs": [],
   "source": [
    "ppmi_login_vincent = \"vincent.w.qing@gmail.com\"\n",
    "ppmi_psw = \"xxx\""
   ]
  },
  {
   "cell_type": "code",
   "execution_count": 2,
   "id": "f87c8f69-44ab-4656-bc04-88a0e51ab0b2",
   "metadata": {},
   "outputs": [
    {
     "name": "stderr",
     "output_type": "stream",
     "text": [
      "\n",
      "\n",
      "====== WebDriver manager ======\n",
      "Current google-chrome version is 101.0.4951\n",
      "Get LATEST chromedriver version for 101.0.4951 google-chrome\n",
      "There is no [linux64] chromedriver for browser 101.0.4951 in cache\n",
      "Trying to download new driver from https://chromedriver.storage.googleapis.com/101.0.4951.41/chromedriver_linux64.zip\n",
      "Driver has been saved in cache [/home/vincent/.wdm/drivers/chromedriver/linux64/101.0.4951.41]\n"
     ]
    },
    {
     "name": "stdout",
     "output_type": "stream",
     "text": [
      "Message: element not interactable\n",
      "  (Session info: headless chrome=101.0.4951.41)\n",
      "\n"
     ]
    },
    {
     "ename": "",
     "evalue": "",
     "output_type": "error",
     "traceback": [
      "\u001b[1;31mCanceled future for execute_request message before replies were done"
     ]
    },
    {
     "ename": "",
     "evalue": "",
     "output_type": "error",
     "traceback": [
      "\u001b[1;31mThe Kernel crashed while executing code in the the current cell or a previous cell. Please review the code in the cell(s) to identify a possible cause of the failure. Click <a href='https://aka.ms/vscodeJupyterKernelCrash'>here</a> for more info. View Jupyter <a href='command:jupyter.viewOutput'>log</a> for further details."
     ]
    }
   ],
   "source": [
    "import sys\n",
    "sys.path.append('/home/vincent/scratch/ppmi-scraper')\n",
    "import ppmi_downloader\n",
    "\n",
    "ppmi = ppmi_downloader.PPMIDownloader(ppmi_login_vincent, ppmi_psw)\n",
    "ppmi.download_metadata(['Demographics.csv', 'Age_at_visit.csv'])\n",
    "ppmi.download_imaging_data([3001, 3003, 3011])"
   ]
  },
  {
   "cell_type": "code",
   "execution_count": null,
   "id": "2970632c",
   "metadata": {},
   "outputs": [],
   "source": []
  }
 ],
 "metadata": {
  "interpreter": {
   "hash": "82beec7210971e3769f3d591826a624b1fec7874f4c33a161b0cc69971345e33"
  },
  "kernelspec": {
   "display_name": "Python 3.8.8 ('base')",
   "language": "python",
   "name": "python3"
  },
  "language_info": {
   "codemirror_mode": {
    "name": "ipython",
    "version": 3
   },
   "file_extension": ".py",
   "mimetype": "text/x-python",
   "name": "python",
   "nbconvert_exporter": "python",
   "pygments_lexer": "ipython3",
   "version": "3.8.8"
  }
 },
 "nbformat": 4,
 "nbformat_minor": 5
}
