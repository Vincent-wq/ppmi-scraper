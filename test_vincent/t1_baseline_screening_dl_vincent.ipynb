{
 "cells": [
  {
   "cell_type": "markdown",
   "id": "f87d0c6e-8f89-4809-827d-b5d28d94a7d7",
   "metadata": {},
   "source": [
    "# Notes\n",
    "    1. need to install selenium (conda)\n",
    "    2. ppmi_login_vincent = \"vincent.w.qing@gmail.com\"\n",
    "ppmi_psw = \"7681115a\"need to install webdriver_manager (pip)"
   ]
  },
  {
   "cell_type": "code",
   "execution_count": null,
   "id": "d3eede88-f52c-41df-8499-0db9364ece8f",
   "metadata": {},
   "outputs": [],
   "source": [
    "ppmi_login_vincent = \"vincent.w.qing@gmail.com\"\n",
    "ppmi_psw = \"7681115a\""
   ]
  },
  {
   "cell_type": "code",
   "execution_count": null,
   "id": "f87c8f69-44ab-4656-bc04-88a0e51ab0b2",
   "metadata": {},
   "outputs": [],
   "source": [
    "import sys\n",
    "sys.path.append('/scratch/ppmi-scraper')\n",
    "import ppmi_downloader\n",
    "\n",
    "ppmi = ppmi_downloader.PPMIDownloader(ppmi_login_vincent, ppmi_psw)\n",
    "ppmi.download_metadata(['Demographics.csv', 'Age_at_visit.csv'])\n",
    "ppmi.download_imaging_data([3001, 3003, 3011])"
   ]
  },
  {
   "cell_type": "code",
   "execution_count": null,
   "id": "95dfa50a-6779-46f0-8152-5ec294460f7d",
   "metadata": {},
   "outputs": [],
   "source": []
  }
 ],
 "metadata": {
  "kernelspec": {
   "display_name": "Python 3 (ipykernel)",
   "language": "python",
   "name": "python3"
  },
  "language_info": {
   "codemirror_mode": {
    "name": "ipython",
    "version": 3
   },
   "file_extension": ".py",
   "mimetype": "text/x-python",
   "name": "python",
   "nbconvert_exporter": "python",
   "pygments_lexer": "ipython3",
   "version": "3.8.5"
  }
 },
 "nbformat": 4,
 "nbformat_minor": 5
}
